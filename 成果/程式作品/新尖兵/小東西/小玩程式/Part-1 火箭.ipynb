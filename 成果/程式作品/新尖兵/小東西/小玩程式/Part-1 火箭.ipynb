{
 "cells": [
  {
   "cell_type": "code",
   "execution_count": 1,
   "id": "408e5d93",
   "metadata": {},
   "outputs": [],
   "source": [
    "# 5-15 火箭升空章節"
   ]
  },
  {
   "cell_type": "code",
   "execution_count": 1,
   "id": "1801d305",
   "metadata": {
    "scrolled": true
   },
   "outputs": [
    {
     "name": "stdout",
     "output_type": "stream",
     "text": [
      "請輸入火箭速度： 50\n",
      "火箭 可以脫離太陽系\n"
     ]
    }
   ],
   "source": [
    "v=eval(input(\"請輸入火箭速度： \"))\n",
    "def Rock():\n",
    "    if (v<7.9):\n",
    "        print(\"火箭 無法升入太空\")\n",
    "    elif (v==7.9):\n",
    "        print(\"火箭 可以環繞地球 做圓形運動\")\n",
    "    elif (v>7.9 and v<11.2):\n",
    "        print(\"火箭 可以環繞地球 做橢圓形運動\")\n",
    "    elif (v>=11.2 and v<16.7):\n",
    "        print(\"火箭 可以環繞太陽移動\")\n",
    "    elif(v>=16.7):\n",
    "        print(\"火箭 可以脫離太陽系\")\n",
    "    else:\n",
    "        print(\"請鍵入數字\")\n",
    "        Rock()\n",
    "\n",
    "Rock()"
   ]
  },
  {
   "cell_type": "code",
   "execution_count": null,
   "id": "7d7dfcb1",
   "metadata": {},
   "outputs": [],
   "source": []
  }
 ],
 "metadata": {
  "kernelspec": {
   "display_name": "Python 3 (ipykernel)",
   "language": "python",
   "name": "python3"
  },
  "language_info": {
   "codemirror_mode": {
    "name": "ipython",
    "version": 3
   },
   "file_extension": ".py",
   "mimetype": "text/x-python",
   "name": "python",
   "nbconvert_exporter": "python",
   "pygments_lexer": "ipython3",
   "version": "3.7.16"
  }
 },
 "nbformat": 4,
 "nbformat_minor": 5
}
