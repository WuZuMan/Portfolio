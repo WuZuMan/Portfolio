{
 "cells": [
  {
   "cell_type": "code",
   "execution_count": null,
   "id": "99f20bc7",
   "metadata": {},
   "outputs": [],
   "source": [
    "# 7-31 國王的麥粒"
   ]
  },
  {
   "cell_type": "code",
   "execution_count": 5,
   "id": "51fae8ea",
   "metadata": {},
   "outputs": [
    {
     "name": "stdout",
     "output_type": "stream",
     "text": [
      "麥粒總共 = 18446744073709551615\n"
     ]
    }
   ],
   "source": [
    "sum=0\n",
    "for i in range(64):\n",
    "    if i == 0:\n",
    "        wheat=1\n",
    "    else:\n",
    "        wheat=2**i\n",
    "    sum += wheat\n",
    "print(f\"麥粒總共 = {sum}\")"
   ]
  },
  {
   "cell_type": "code",
   "execution_count": null,
   "id": "a284343c",
   "metadata": {},
   "outputs": [],
   "source": []
  }
 ],
 "metadata": {
  "kernelspec": {
   "display_name": "Python 3 (ipykernel)",
   "language": "python",
   "name": "python3"
  },
  "language_info": {
   "codemirror_mode": {
    "name": "ipython",
    "version": 3
   },
   "file_extension": ".py",
   "mimetype": "text/x-python",
   "name": "python",
   "nbconvert_exporter": "python",
   "pygments_lexer": "ipython3",
   "version": "3.7.16"
  }
 },
 "nbformat": 4,
 "nbformat_minor": 5
}
